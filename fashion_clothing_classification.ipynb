{
 "cells": [
  {
   "cell_type": "code",
   "execution_count": 15,
   "id": "22128146",
   "metadata": {},
   "outputs": [],
   "source": [
    "import tensorflow as tf\n",
    "from tensorflow import keras\n",
    "\n",
    "# Helper libraries\n",
    "import numpy as np\n",
    "import matplotlib.pyplot as plt"
   ]
  },
  {
   "cell_type": "code",
   "execution_count": 16,
   "id": "9adfa925",
   "metadata": {},
   "outputs": [],
   "source": [
    "fashion_mnist = keras.datasets.fashion_mnist\n",
    "\n",
    "(train_images, train_labels), (test_images, test_labels) = fashion_mnist.load_data()"
   ]
  },
  {
   "cell_type": "code",
   "execution_count": 17,
   "id": "6bfa0128",
   "metadata": {},
   "outputs": [],
   "source": [
    "class_names = ['T-shirt/top', 'Trouser', 'Pullover', 'Dress', 'Coat',\n",
    "               'Sandal', 'Shirt', 'Sneaker', 'Bag', 'Ankle boot']"
   ]
  },
  {
   "cell_type": "code",
   "execution_count": 18,
   "id": "3ec02967",
   "metadata": {},
   "outputs": [],
   "source": [
    "train_images_scaled = train_images / 255.0\n",
    "test_images_scaled = test_images / 255.0"
   ]
  },
  {
   "cell_type": "code",
   "execution_count": 27,
   "id": "2124642f",
   "metadata": {},
   "outputs": [],
   "source": [
    "layers = [keras.layers.Flatten(input_shape=(28, 28)),\n",
    "              keras.layers.Dense(100, activation='relu'),\n",
    "              keras.layers.Dense(100, activation='relu'),\n",
    "              keras.layers.Dense(100, activation='relu'),\n",
    "              keras.layers.Dense(100, activation='relu'),\n",
    "              keras.layers.Dense(100, activation='relu'),\n",
    "              keras.layers.Dense(10, activation='sigmoid')\n",
    "             ]\n",
    "   \n",
    "    \n",
    "model = keras.Sequential(layers)\n",
    "    \n",
    "model.compile(optimizer='adam',\n",
    "                  loss='sparse_categorical_crossentropy',\n",
    "                  metrics=['accuracy'])\n",
    "    "
   ]
  },
  {
   "cell_type": "code",
   "execution_count": 29,
   "id": "88f86697",
   "metadata": {
    "scrolled": true
   },
   "outputs": [
    {
     "name": "stdout",
     "output_type": "stream",
     "text": [
      "Epoch 1/50\n",
      "1875/1875 [==============================] - 9s 5ms/step - loss: 0.3907 - accuracy: 0.8573\n",
      "Epoch 2/50\n",
      "1875/1875 [==============================] - 10s 5ms/step - loss: 0.3526 - accuracy: 0.8702\n",
      "Epoch 3/50\n",
      "1875/1875 [==============================] - 9s 5ms/step - loss: 0.3249 - accuracy: 0.8809\n",
      "Epoch 4/50\n",
      "1875/1875 [==============================] - 9s 5ms/step - loss: 0.3082 - accuracy: 0.8866\n",
      "Epoch 5/50\n",
      "1875/1875 [==============================] - 9s 5ms/step - loss: 0.2957 - accuracy: 0.8910\n",
      "Epoch 6/50\n",
      "1875/1875 [==============================] - 9s 5ms/step - loss: 0.2813 - accuracy: 0.8948\n",
      "Epoch 7/50\n",
      "1875/1875 [==============================] - 9s 5ms/step - loss: 0.2700 - accuracy: 0.8995\n",
      "Epoch 8/50\n",
      "1875/1875 [==============================] - 9s 5ms/step - loss: 0.2619 - accuracy: 0.9027\n",
      "Epoch 9/50\n",
      "1875/1875 [==============================] - 9s 5ms/step - loss: 0.2533 - accuracy: 0.9051\n",
      "Epoch 10/50\n",
      "1875/1875 [==============================] - 9s 5ms/step - loss: 0.2499 - accuracy: 0.9060\n",
      "Epoch 11/50\n",
      "1875/1875 [==============================] - 9s 5ms/step - loss: 0.2409 - accuracy: 0.9090\n",
      "Epoch 12/50\n",
      "1875/1875 [==============================] - 9s 5ms/step - loss: 0.2333 - accuracy: 0.9123\n",
      "Epoch 13/50\n",
      "1875/1875 [==============================] - 9s 5ms/step - loss: 0.2280 - accuracy: 0.9149\n",
      "Epoch 14/50\n",
      "1875/1875 [==============================] - 9s 5ms/step - loss: 0.2254 - accuracy: 0.9147\n",
      "Epoch 15/50\n",
      "1875/1875 [==============================] - 9s 5ms/step - loss: 0.2195 - accuracy: 0.9180\n",
      "Epoch 16/50\n",
      "1875/1875 [==============================] - 9s 5ms/step - loss: 0.2121 - accuracy: 0.9187\n",
      "Epoch 17/50\n",
      "1875/1875 [==============================] - 9s 5ms/step - loss: 0.2084 - accuracy: 0.9213\n",
      "Epoch 18/50\n",
      "1875/1875 [==============================] - 9s 5ms/step - loss: 0.2045 - accuracy: 0.9220\n",
      "Epoch 19/50\n",
      "1875/1875 [==============================] - 9s 5ms/step - loss: 0.1984 - accuracy: 0.9251\n",
      "Epoch 20/50\n",
      "1875/1875 [==============================] - 9s 5ms/step - loss: 0.1952 - accuracy: 0.9254\n",
      "Epoch 21/50\n",
      "1875/1875 [==============================] - 9s 5ms/step - loss: 0.1942 - accuracy: 0.9267\n",
      "Epoch 22/50\n",
      "1875/1875 [==============================] - 9s 5ms/step - loss: 0.1882 - accuracy: 0.9285\n",
      "Epoch 23/50\n",
      "1875/1875 [==============================] - 9s 5ms/step - loss: 0.1827 - accuracy: 0.9300\n",
      "Epoch 24/50\n",
      "1875/1875 [==============================] - 9s 5ms/step - loss: 0.1823 - accuracy: 0.9303\n",
      "Epoch 25/50\n",
      "1875/1875 [==============================] - 10s 5ms/step - loss: 0.1765 - accuracy: 0.9326\n",
      "Epoch 26/50\n",
      "1875/1875 [==============================] - 10s 5ms/step - loss: 0.1781 - accuracy: 0.9316\n",
      "Epoch 27/50\n",
      "1875/1875 [==============================] - 9s 5ms/step - loss: 0.1719 - accuracy: 0.9339\n",
      "Epoch 28/50\n",
      "1875/1875 [==============================] - 9s 5ms/step - loss: 0.1710 - accuracy: 0.9345\n",
      "Epoch 29/50\n",
      "1875/1875 [==============================] - 9s 5ms/step - loss: 0.1678 - accuracy: 0.9353\n",
      "Epoch 30/50\n",
      "1875/1875 [==============================] - 9s 5ms/step - loss: 0.1640 - accuracy: 0.9370\n",
      "Epoch 31/50\n",
      "1875/1875 [==============================] - 9s 5ms/step - loss: 0.1622 - accuracy: 0.9379\n",
      "Epoch 32/50\n",
      "1875/1875 [==============================] - 9s 5ms/step - loss: 0.1605 - accuracy: 0.9374\n",
      "Epoch 33/50\n",
      "1875/1875 [==============================] - 9s 5ms/step - loss: 0.1557 - accuracy: 0.9408\n",
      "Epoch 34/50\n",
      "1875/1875 [==============================] - 9s 5ms/step - loss: 0.1548 - accuracy: 0.9399\n",
      "Epoch 35/50\n",
      "1875/1875 [==============================] - 9s 5ms/step - loss: 0.1542 - accuracy: 0.9407\n",
      "Epoch 36/50\n",
      "1875/1875 [==============================] - 9s 5ms/step - loss: 0.1525 - accuracy: 0.9421\n",
      "Epoch 37/50\n",
      "1875/1875 [==============================] - 9s 5ms/step - loss: 0.1526 - accuracy: 0.9422\n",
      "Epoch 38/50\n",
      "1875/1875 [==============================] - 9s 5ms/step - loss: 0.1461 - accuracy: 0.9440\n",
      "Epoch 39/50\n",
      "1875/1875 [==============================] - 9s 5ms/step - loss: 0.1474 - accuracy: 0.9443\n",
      "Epoch 40/50\n",
      "1875/1875 [==============================] - 9s 5ms/step - loss: 0.1443 - accuracy: 0.9451\n",
      "Epoch 41/50\n",
      "1875/1875 [==============================] - 9s 5ms/step - loss: 0.1412 - accuracy: 0.9465\n",
      "Epoch 42/50\n",
      "1875/1875 [==============================] - 9s 5ms/step - loss: 0.1393 - accuracy: 0.9467\n",
      "Epoch 43/50\n",
      "1875/1875 [==============================] - 9s 5ms/step - loss: 0.1401 - accuracy: 0.9464\n",
      "Epoch 44/50\n",
      "1875/1875 [==============================] - 9s 5ms/step - loss: 0.1408 - accuracy: 0.9471\n",
      "Epoch 45/50\n",
      "1875/1875 [==============================] - 9s 5ms/step - loss: 0.1339 - accuracy: 0.9494\n",
      "Epoch 46/50\n",
      "1875/1875 [==============================] - 9s 5ms/step - loss: 0.1348 - accuracy: 0.9481\n",
      "Epoch 47/50\n",
      "1875/1875 [==============================] - 10s 5ms/step - loss: 0.1352 - accuracy: 0.9493\n",
      "Epoch 48/50\n",
      "1875/1875 [==============================] - 9s 5ms/step - loss: 0.1301 - accuracy: 0.9500\n",
      "Epoch 49/50\n",
      "1875/1875 [==============================] - 9s 5ms/step - loss: 0.1308 - accuracy: 0.9499\n",
      "Epoch 50/50\n",
      "1875/1875 [==============================] - 10s 5ms/step - loss: 0.1254 - accuracy: 0.9514\n",
      "7min 50s ± 0 ns per loop (mean ± std. dev. of 1 run, 1 loop each)\n"
     ]
    }
   ],
   "source": [
    "%%timeit -n1 -r1\n",
    "model.fit(train_images_scaled, train_labels, epochs=50)"
   ]
  },
  {
   "cell_type": "code",
   "execution_count": 33,
   "id": "abc67b91",
   "metadata": {
    "scrolled": true
   },
   "outputs": [
    {
     "name": "stdout",
     "output_type": "stream",
     "text": [
      "Epoch 1/50\n",
      "  25/1875 [..............................] - ETA: 7s - loss: 0.1325 - accuracy: 0.9500"
     ]
    },
    {
     "name": "stderr",
     "output_type": "stream",
     "text": [
      "2023-02-17 20:08:41.823564: I tensorflow/core/grappler/optimizers/custom_graph_optimizer_registry.cc:113] Plugin optimizer for device_type GPU is enabled.\n"
     ]
    },
    {
     "name": "stdout",
     "output_type": "stream",
     "text": [
      "1875/1875 [==============================] - 8s 4ms/step - loss: 0.1272 - accuracy: 0.9522\n",
      "Epoch 2/50\n",
      "1875/1875 [==============================] - 8s 4ms/step - loss: 0.1243 - accuracy: 0.9535\n",
      "Epoch 3/50\n",
      "1875/1875 [==============================] - 7s 4ms/step - loss: 0.1267 - accuracy: 0.9525\n",
      "Epoch 4/50\n",
      "1875/1875 [==============================] - 7s 4ms/step - loss: 0.1265 - accuracy: 0.9528\n",
      "Epoch 5/50\n",
      "1875/1875 [==============================] - 8s 4ms/step - loss: 0.1210 - accuracy: 0.9536\n",
      "Epoch 6/50\n",
      "1875/1875 [==============================] - 8s 4ms/step - loss: 0.1196 - accuracy: 0.9535\n",
      "Epoch 7/50\n",
      "1875/1875 [==============================] - 8s 4ms/step - loss: 0.1213 - accuracy: 0.9540\n",
      "Epoch 8/50\n",
      "1875/1875 [==============================] - 7s 4ms/step - loss: 0.1199 - accuracy: 0.9543\n",
      "Epoch 9/50\n",
      "1875/1875 [==============================] - 8s 4ms/step - loss: 0.1156 - accuracy: 0.9558\n",
      "Epoch 10/50\n",
      "1875/1875 [==============================] - 7s 4ms/step - loss: 0.1174 - accuracy: 0.9556\n",
      "Epoch 11/50\n",
      "1875/1875 [==============================] - 8s 4ms/step - loss: 0.1141 - accuracy: 0.9574\n",
      "Epoch 12/50\n",
      "1875/1875 [==============================] - 8s 4ms/step - loss: 0.1084 - accuracy: 0.9587\n",
      "Epoch 13/50\n",
      "1875/1875 [==============================] - 8s 4ms/step - loss: 0.1139 - accuracy: 0.9567\n",
      "Epoch 14/50\n",
      "1875/1875 [==============================] - 8s 4ms/step - loss: 0.1054 - accuracy: 0.9604\n",
      "Epoch 15/50\n",
      "1875/1875 [==============================] - 8s 4ms/step - loss: 0.1092 - accuracy: 0.9584\n",
      "Epoch 16/50\n",
      "1875/1875 [==============================] - 8s 4ms/step - loss: 0.1102 - accuracy: 0.9588\n",
      "Epoch 17/50\n",
      "1875/1875 [==============================] - 8s 4ms/step - loss: 0.1121 - accuracy: 0.9586\n",
      "Epoch 18/50\n",
      "1875/1875 [==============================] - 8s 4ms/step - loss: 0.1057 - accuracy: 0.9600\n",
      "Epoch 19/50\n",
      "1875/1875 [==============================] - 8s 4ms/step - loss: 0.1037 - accuracy: 0.9608\n",
      "Epoch 20/50\n",
      "1875/1875 [==============================] - 8s 4ms/step - loss: 0.1130 - accuracy: 0.9590\n",
      "Epoch 21/50\n",
      "1875/1875 [==============================] - 8s 4ms/step - loss: 0.1119 - accuracy: 0.9597\n",
      "Epoch 22/50\n",
      "1875/1875 [==============================] - 8s 4ms/step - loss: 0.1025 - accuracy: 0.9615\n",
      "Epoch 23/50\n",
      "1875/1875 [==============================] - 8s 4ms/step - loss: 0.1038 - accuracy: 0.9617\n",
      "Epoch 24/50\n",
      "1875/1875 [==============================] - 8s 4ms/step - loss: 0.1020 - accuracy: 0.9628\n",
      "Epoch 25/50\n",
      "1875/1875 [==============================] - 8s 4ms/step - loss: 0.0976 - accuracy: 0.9632\n",
      "Epoch 26/50\n",
      "1875/1875 [==============================] - 8s 4ms/step - loss: 0.1022 - accuracy: 0.9623\n",
      "Epoch 27/50\n",
      "1875/1875 [==============================] - 8s 4ms/step - loss: 0.0960 - accuracy: 0.9638\n",
      "Epoch 28/50\n",
      "1875/1875 [==============================] - 8s 4ms/step - loss: 0.0978 - accuracy: 0.9623\n",
      "Epoch 29/50\n",
      "1875/1875 [==============================] - 8s 4ms/step - loss: 0.1040 - accuracy: 0.9612\n",
      "Epoch 30/50\n",
      "1875/1875 [==============================] - 8s 4ms/step - loss: 0.0994 - accuracy: 0.9628\n",
      "Epoch 31/50\n",
      "1875/1875 [==============================] - 8s 4ms/step - loss: 0.0988 - accuracy: 0.9640\n",
      "Epoch 32/50\n",
      "1875/1875 [==============================] - 8s 4ms/step - loss: 0.0952 - accuracy: 0.9642\n",
      "Epoch 33/50\n",
      "1875/1875 [==============================] - 8s 4ms/step - loss: 0.0959 - accuracy: 0.9653\n",
      "Epoch 34/50\n",
      "1875/1875 [==============================] - 8s 4ms/step - loss: 0.0915 - accuracy: 0.9655\n",
      "Epoch 35/50\n",
      "1875/1875 [==============================] - 8s 4ms/step - loss: 0.0961 - accuracy: 0.9643\n",
      "Epoch 36/50\n",
      "1875/1875 [==============================] - 8s 4ms/step - loss: 0.0946 - accuracy: 0.9650\n",
      "Epoch 37/50\n",
      "1875/1875 [==============================] - 8s 4ms/step - loss: 0.0907 - accuracy: 0.9665\n",
      "Epoch 38/50\n",
      "1875/1875 [==============================] - 8s 4ms/step - loss: 0.0973 - accuracy: 0.9646\n",
      "Epoch 39/50\n",
      "1875/1875 [==============================] - 8s 4ms/step - loss: 0.0883 - accuracy: 0.9673\n",
      "Epoch 40/50\n",
      "1875/1875 [==============================] - 8s 4ms/step - loss: 0.0978 - accuracy: 0.9643\n",
      "Epoch 41/50\n",
      "1875/1875 [==============================] - 8s 4ms/step - loss: 0.0867 - accuracy: 0.9679\n",
      "Epoch 42/50\n",
      "1875/1875 [==============================] - 8s 4ms/step - loss: 0.0860 - accuracy: 0.9683\n",
      "Epoch 43/50\n",
      "1875/1875 [==============================] - 8s 5ms/step - loss: 0.0880 - accuracy: 0.9678\n",
      "Epoch 44/50\n",
      "1875/1875 [==============================] - 8s 4ms/step - loss: 0.0954 - accuracy: 0.9662\n",
      "Epoch 45/50\n",
      "1875/1875 [==============================] - 8s 4ms/step - loss: 0.0823 - accuracy: 0.9693\n",
      "Epoch 46/50\n",
      "1875/1875 [==============================] - 8s 4ms/step - loss: 0.0871 - accuracy: 0.9669\n",
      "Epoch 47/50\n",
      "1875/1875 [==============================] - 8s 4ms/step - loss: 0.0868 - accuracy: 0.9672\n",
      "Epoch 48/50\n",
      "1875/1875 [==============================] - 8s 4ms/step - loss: 0.0834 - accuracy: 0.9693\n",
      "Epoch 49/50\n",
      "1875/1875 [==============================] - 8s 4ms/step - loss: 0.0918 - accuracy: 0.9674\n",
      "Epoch 50/50\n",
      "1875/1875 [==============================] - 8s 4ms/step - loss: 0.0974 - accuracy: 0.9665\n",
      "6min 23s ± 0 ns per loop (mean ± std. dev. of 1 run, 1 loop each)\n"
     ]
    }
   ],
   "source": [
    "%%timeit -n1 -r1\n",
    "with tf.device('/CPU:0'):\n",
    "    model.fit(train_images_scaled, train_labels, epochs=50)"
   ]
  },
  {
   "cell_type": "code",
   "execution_count": 34,
   "id": "a6b402db",
   "metadata": {},
   "outputs": [],
   "source": [
    "def test():\n",
    "    img = int(input(\"Enter image number between 0-9999:\"))\n",
    "    print(\"The predicted image at\", img, \"is\", class_names[np.argmax(model.predict(test_images_scaled)[img])])\n",
    "    print(\"Do you wish to verify?(y/n)\")\n",
    "    if input() == 'y':\n",
    "        plt.imshow(test_images[img])\n",
    "    elif input() == 'n':\n",
    "        return\n",
    "    "
   ]
  },
  {
   "cell_type": "code",
   "execution_count": 35,
   "id": "9dadc3e9",
   "metadata": {},
   "outputs": [
    {
     "name": "stdout",
     "output_type": "stream",
     "text": [
      "Enter image number between 0-9999:6576\n",
      "313/313 [==============================] - 1s 2ms/step\n",
      "The predicted image at 6576 is T-shirt/top\n",
      "Do you wish to verify?(y/n)\n",
      "y\n"
     ]
    },
    {
     "data": {
      "image/png": "[encoded data removed]",
      "text/plain": [
       "<Figure size 640x480 with 1 Axes>"
      ]
     },
     "metadata": {},
     "output_type": "display_data"
    }
   ],
   "source": [
    "test()"
   ]
  },
  {
   "cell_type": "code",
   "execution_count": null,
   "id": "e6d4353d",
   "metadata": {},
   "outputs": [],
   "source": []
  }
 ],
 "metadata": {
  "kernelspec": {
   "display_name": "Python 3 (ipykernel)",
   "language": "python",
   "name": "python3"
  },
  "language_info": {
   "codemirror_mode": {
    "name": "ipython",
    "version": 3
   },
   "file_extension": ".py",
   "mimetype": "text/x-python",
   "name": "python",
   "nbconvert_exporter": "python",
   "pygments_lexer": "ipython3",
   "version": "3.10.9"
  }
 },
 "nbformat": 4,
 "nbformat_minor": 5
}
